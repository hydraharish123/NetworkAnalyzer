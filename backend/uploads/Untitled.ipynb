{
 "cells": [
  {
   "cell_type": "code",
   "execution_count": 1,
   "id": "364f21a7-321d-4e44-baa5-4e65e6047d2b",
   "metadata": {},
   "outputs": [
    {
     "ename": "AttributeError",
     "evalue": "module 'networkx' has no attribute 'info'",
     "output_type": "error",
     "traceback": [
      "\u001b[1;31m---------------------------------------------------------------------------\u001b[0m",
      "\u001b[1;31mAttributeError\u001b[0m                            Traceback (most recent call last)",
      "Cell \u001b[1;32mIn[1], line 40\u001b[0m\n\u001b[0;32m     37\u001b[0m     G\u001b[38;5;241m.\u001b[39madd_edge(source, target)\n\u001b[0;32m     39\u001b[0m \u001b[38;5;66;03m# Print Graph Info\u001b[39;00m\n\u001b[1;32m---> 40\u001b[0m \u001b[38;5;28mprint\u001b[39m(nx\u001b[38;5;241m.\u001b[39minfo(G))\n\u001b[0;32m     42\u001b[0m \u001b[38;5;66;03m# Compute Degree Centrality\u001b[39;00m\n\u001b[0;32m     43\u001b[0m degree_centrality \u001b[38;5;241m=\u001b[39m nx\u001b[38;5;241m.\u001b[39mdegree_centrality(G)\n",
      "\u001b[1;31mAttributeError\u001b[0m: module 'networkx' has no attribute 'info'"
     ]
    }
   ],
   "source": [
    "import networkx as nx\n",
    "import json\n",
    "\n",
    "# Sample Cytoscape JSON data\n",
    "cytoscape_json = '''\n",
    "{\n",
    "  \"elements\": {\n",
    "    \"nodes\": [\n",
    "      { \"data\": { \"id\": \"1\" } },\n",
    "      { \"data\": { \"id\": \"2\" } },\n",
    "      { \"data\": { \"id\": \"3\" } }\n",
    "    ],\n",
    "    \"edges\": [\n",
    "      { \"data\": { \"source\": \"1\", \"target\": \"2\" } },\n",
    "      { \"data\": { \"source\": \"2\", \"target\": \"3\" } },\n",
    "      { \"data\": { \"source\": \"3\", \"target\": \"1\" } }\n",
    "    ]\n",
    "  }\n",
    "}\n",
    "'''\n",
    "\n",
    "# Load JSON data\n",
    "cytoscape_data = json.loads(cytoscape_json)\n",
    "\n",
    "# Create an empty graph\n",
    "G = nx.Graph()\n",
    "\n",
    "# Add nodes\n",
    "for node in cytoscape_data[\"elements\"][\"nodes\"]:\n",
    "    node_id = node[\"data\"][\"id\"]\n",
    "    G.add_node(node_id)\n",
    "\n",
    "# Add edges\n",
    "for edge in cytoscape_data[\"elements\"][\"edges\"]:\n",
    "    source = edge[\"data\"][\"source\"]\n",
    "    target = edge[\"data\"][\"target\"]\n",
    "    G.add_edge(source, target)\n",
    "\n",
    "# Print Graph Info\n",
    "print(nx.info(G))\n",
    "\n",
    "# Compute Degree Centrality\n",
    "degree_centrality = nx.degree_centrality(G)\n",
    "print(\"Degree Centrality:\", degree_centrality)\n"
   ]
  },
  {
   "cell_type": "code",
   "execution_count": 3,
   "id": "c4bb06c1-67e8-47a3-ac33-2e90d2515212",
   "metadata": {},
   "outputs": [],
   "source": [
    "def convert_to_cytoscape_json(input_file):\n",
    "    \"\"\"\n",
    "    Converts a given JSON file into Cytoscape.js compatible JSON format.\n",
    "    \"\"\"\n",
    "    try:\n",
    "        with open(input_file, 'r') as file:\n",
    "            input_json = json.load(file)\n",
    "    except FileNotFoundError:\n",
    "        raise FileNotFoundError(f\"File '{input_file}' not found.\")\n",
    "    except json.JSONDecodeError as e:\n",
    "        raise ValueError(f\"Invalid JSON format: {e}\")\n",
    "\n",
    "    cytoscape_elements = {\"nodes\": [], \"edges\": []}\n",
    "\n",
    "    if not isinstance(input_json, list):\n",
    "        raise ValueError(\"Input JSON must be a list of elements.\")\n",
    "\n",
    "    for idx, element in enumerate(input_json):\n",
    "        try:\n",
    "            group = element.get(\"group\")\n",
    "            data = element.get(\"data\", {})\n",
    "\n",
    "            if not group:\n",
    "                print(f\"Warning: Element at index {idx} missing 'group'. Skipping.\")\n",
    "                continue\n",
    "\n",
    "            if group == \"nodes\":\n",
    "                node_id = data.get(\"id\")\n",
    "                if not node_id:\n",
    "                    print(f\"Warning: Node at index {idx} missing 'id'. Skipping.\")\n",
    "                    continue\n",
    "\n",
    "                node = {\n",
    "                    \"data\": {\n",
    "                        \"id\": node_id,\n",
    "                        \"altered\": data.get(\"altered\"),\n",
    "                        \"rank\": data.get(\"rank\"),\n",
    "                        \"cited\": data.get(\"cited\"),\n",
    "                        \"uniprotdesc\": data.get(\"uniprotdesc\"),\n",
    "                        \"isseed\": data.get(\"isseed\"),\n",
    "                        \"uniprot\": data.get(\"uniprot\"),\n",
    "                        \"isvalid\": data.get(\"isvalid\"),\n",
    "                        \"importance\": data.get(\"importance\")\n",
    "                    },\n",
    "                    \"position\": element.get(\"position\", {\"x\": 0, \"y\": 0})\n",
    "                }\n",
    "                cytoscape_elements[\"nodes\"].append(node)\n",
    "\n",
    "            elif group == \"edges\":\n",
    "                source = data.get(\"source\")\n",
    "                target = data.get(\"target\")\n",
    "                if not source or not target:\n",
    "                    print(f\"Warning: Edge at index {idx} missing 'source' or 'target'. Skipping.\")\n",
    "                    continue\n",
    "\n",
    "                edge = {\n",
    "                    \"data\": {\n",
    "                        \"id\": data.get(\"id\", f\"{source}_{target}\"),\n",
    "                        \"source\": source,\n",
    "                        \"target\": target,\n",
    "                        \"altered\": data.get(\"altered\"),\n",
    "                        \"rank\": data.get(\"rank\"),\n",
    "                        \"cited\": data.get(\"cited\"),\n",
    "                        \"uniprotdesc\": data.get(\"uniprotdesc\"),\n",
    "                        \"isseed\": data.get(\"isseed\"),\n",
    "                        \"uniprot\": data.get(\"uniprot\"),\n",
    "                        \"isvalid\": data.get(\"isvalid\"),\n",
    "                        \"importance\": data.get(\"importance\")\n",
    "                    }\n",
    "                }\n",
    "                cytoscape_elements[\"edges\"].append(edge)\n",
    "\n",
    "            else:\n",
    "                print(f\"Warning: Unknown group '{group}' at index {idx}. Skipping.\")\n",
    "\n",
    "        except Exception as e:\n",
    "            print(f\"Error processing element at index {idx}: {e}\")\n",
    "\n",
    "    return {\"elements\": cytoscape_elements}\n"
   ]
  },
  {
   "cell_type": "code",
   "execution_count": 13,
   "id": "006b6606-8a25-4000-a67a-a7ae41970c15",
   "metadata": {},
   "outputs": [],
   "source": [
    "cytoscape_data = convert_to_cytoscape_json('biology_data.json')"
   ]
  },
  {
   "cell_type": "code",
   "execution_count": 9,
   "id": "f39daa85-088b-42ff-b4bf-38e836c5e5a3",
   "metadata": {},
   "outputs": [],
   "source": [
    "import networkx as nx\n",
    "import json"
   ]
  },
  {
   "cell_type": "code",
   "execution_count": 11,
   "id": "8ad6dfbd-1c63-47c0-99df-18ba50878f40",
   "metadata": {},
   "outputs": [],
   "source": [
    "G = nx.Graph()"
   ]
  },
  {
   "cell_type": "code",
   "execution_count": 15,
   "id": "8fce1e75-db6d-4e4d-b770-3a247a532cbc",
   "metadata": {},
   "outputs": [],
   "source": [
    "for node in cytoscape_data[\"elements\"][\"nodes\"]:\n",
    "    node_id = node[\"data\"][\"id\"]\n",
    "    G.add_node(node_id)\n",
    "\n",
    "# Add edges\n",
    "for edge in cytoscape_data[\"elements\"][\"edges\"]:\n",
    "    source = edge[\"data\"][\"source\"]\n",
    "    target = edge[\"data\"][\"target\"]\n",
    "    G.add_edge(source, target)"
   ]
  },
  {
   "cell_type": "code",
   "execution_count": 19,
   "id": "8cd6bfe2-f870-4eba-b7ee-7a7e0c72565e",
   "metadata": {},
   "outputs": [
    {
     "name": "stdout",
     "output_type": "stream",
     "text": [
      "Degree Centrality: {'HIRA': 0.01, 'SERPINE1': 0.01, 'FAS': 0.01, 'H1F0': 0.01, 'CHEK2': 0.03, 'COL18A1': 0.01, 'CREBBP': 0.02, 'FDXR': 0.01, 'SMYD2': 0.01, 'ATR': 0.03, 'HGF': 0.01, 'ATM': 0.03, 'TP63': 0.23, 'GPX1': 0.01, 'TRIAP1': 0.01, 'HIST1H1E': 0.01, 'HIST1H1D': 0.01, 'HIST1H1C': 0.01, 'HIST1H1B': 0.01, 'HIST1H1A': 0.01, 'TP53': 0.96, 'GADD45A': 0.05, 'PML': 0.03, 'SUMO1': 0.03, 'PPP2CA': 0.03, 'PPP2CB': 0.03, 'PRKAA1': 0.03, 'PRKAA2': 0.03, 'MAPK11': 0.03, 'TP73': 0.23, 'CCNB1': 0.02, 'MAPK12': 0.03, 'MAPK13': 0.03, 'MAPK14': 0.03, 'PRKAB2': 0.03, 'PRKAB1': 0.03, 'EP300': 0.04, 'IGBP1': 0.03, 'FBXO11': 0.02, 'HMGB1': 0.03, 'NEDD8': 0.02, 'ASF1A': 0.01, 'KAT8': 0.01, 'HTT': 0.03, 'WRN': 0.03, 'CDKN1A': 0.02, 'PLK3': 0.01, 'DYRK1A': 0.01, 'PRKAG1': 0.03, 'CASP6': 0.01, 'MAX': 0.01, 'FOS': 0.01, 'TP53I3': 0.01, 'PRMT1': 0.01, 'PCBP4': 0.01, 'PRMT5': 0.01, 'E4F1': 0.01, 'CASP1': 0.01, 'PRKCA': 0.01, 'CDK1': 0.01, 'CDK9': 0.01, 'RB1': 0.01, 'CDK7': 0.01, 'HMGA2': 0.01, 'DAPK3': 0.01, 'HMGA1': 0.01, 'PRKCD': 0.01, 'UBN1': 0.01, 'CDK5': 0.01, 'CDK2': 0.01, 'DAPK1': 0.01, 'RFWD2': 0.01, 'PPM1J': 0.01, 'BTG2': 0.01, 'CD82': 0.01, 'HIPK2': 0.01, 'DDB2': 0.01, 'MDM2': 0.02, 'CTSD': 0.01, 'NGFR': 0.01, 'CARM1': 0.01, 'TYRP1': 0.01, 'PRKDC': 0.01, 'HIC1': 0.01, 'TAP1': 0.01, 'PYCARD': 0.01, 'APC': 0.01, 'RNF144B': 0.01, 'KAT2B': 0.01, 'MSH2': 0.01, 'PPP1R13L': 0.01, 'SIRT1': 0.04, 'CASP10': 0.01, 'SP1': 0.01, 'IRF5': 0.01, 'BAX': 0.01, 'CABIN1': 0.01, 'SETD7': 0.01, 'SETD8': 0.01, 'APAF1': 0.01, 'GDF15': 0.01}\n"
     ]
    }
   ],
   "source": [
    "degree_centrality = nx.degree_centrality(G)\n",
    "print(\"Degree Centrality:\", degree_centrality)\n"
   ]
  },
  {
   "cell_type": "code",
   "execution_count": 21,
   "id": "50532043-2fbc-41b0-8338-5931fcca2575",
   "metadata": {},
   "outputs": [
    {
     "data": {
      "text/plain": [
       "<networkx.classes.graph.Graph at 0x220043e2a20>"
      ]
     },
     "execution_count": 21,
     "metadata": {},
     "output_type": "execute_result"
    }
   ],
   "source": [
    "G"
   ]
  },
  {
   "cell_type": "code",
   "execution_count": 25,
   "id": "5912a2b7-3f04-4c8a-ab03-35015bd2bea3",
   "metadata": {},
   "outputs": [
    {
     "name": "stdout",
     "output_type": "stream",
     "text": [
      "Betweenness Centrality: {'HIRA': 0.0, 'SERPINE1': 0.0, 'FAS': 0.0, 'H1F0': 0.0, 'CHEK2': 8.78348704435661e-06, 'COL18A1': 0.0, 'CREBBP': 0.0, 'FDXR': 0.0, 'SMYD2': 0.0, 'ATR': 8.78348704435661e-06, 'HGF': 0.0, 'ATM': 8.78348704435661e-06, 'TP63': 0.015555555555555553, 'GPX1': 0.0, 'TRIAP1': 0.0, 'HIST1H1E': 0.0, 'HIST1H1D': 0.0, 'HIST1H1C': 0.0, 'HIST1H1B': 0.0, 'HIST1H1A': 0.0, 'TP53': 0.9561703996486606, 'GADD45A': 0.0398989898989899, 'PML': 8.78348704435661e-06, 'SUMO1': 8.78348704435661e-06, 'PPP2CA': 8.78348704435661e-06, 'PPP2CB': 8.78348704435661e-06, 'PRKAA1': 8.78348704435661e-06, 'PRKAA2': 8.78348704435661e-06, 'MAPK11': 8.78348704435661e-06, 'TP73': 0.015555555555555553, 'CCNB1': 0.02, 'MAPK12': 8.78348704435661e-06, 'MAPK13': 8.78348704435661e-06, 'MAPK14': 8.78348704435661e-06, 'PRKAB2': 8.78348704435661e-06, 'PRKAB1': 8.78348704435661e-06, 'EP300': 0.0006148440931049627, 'IGBP1': 8.78348704435661e-06, 'FBXO11': 0.009898989898989899, 'HMGB1': 8.78348704435661e-06, 'NEDD8': 0.00010101010101010101, 'ASF1A': 0.0, 'KAT8': 0.0, 'HTT': 8.78348704435661e-06, 'WRN': 8.78348704435661e-06, 'CDKN1A': 0.0, 'PLK3': 0.0, 'DYRK1A': 0.0, 'PRKAG1': 8.78348704435661e-06, 'CASP6': 0.0, 'MAX': 0.0, 'FOS': 0.0, 'TP53I3': 0.0, 'PRMT1': 0.0, 'PCBP4': 0.0, 'PRMT5': 0.0, 'E4F1': 0.0, 'CASP1': 0.0, 'PRKCA': 0.0, 'CDK1': 0.0, 'CDK9': 0.0, 'RB1': 0.0, 'CDK7': 0.0, 'HMGA2': 0.0, 'DAPK3': 0.0, 'HMGA1': 0.0, 'PRKCD': 0.0, 'UBN1': 0.0, 'CDK5': 0.0, 'CDK2': 0.0, 'DAPK1': 0.0, 'RFWD2': 0.0, 'PPM1J': 0.0, 'BTG2': 0.0, 'CD82': 0.0, 'HIPK2': 0.0, 'DDB2': 0.0, 'MDM2': 0.009898989898989899, 'CTSD': 0.0, 'NGFR': 0.0, 'CARM1': 0.0, 'TYRP1': 0.0, 'PRKDC': 0.0, 'HIC1': 0.0, 'TAP1': 0.0, 'PYCARD': 0.0, 'APC': 0.0, 'RNF144B': 0.0, 'KAT2B': 0.0, 'MSH2': 0.0, 'PPP1R13L': 0.0, 'SIRT1': 0.00021080368906455863, 'CASP10': 0.0, 'SP1': 0.0, 'IRF5': 0.0, 'BAX': 0.0, 'CABIN1': 0.0, 'SETD7': 0.0, 'SETD8': 0.0, 'APAF1': 0.0, 'GDF15': 0.0} \n",
      "\n",
      "Closeness Centrality: {'HIRA': 0.49261083743842365, 'SERPINE1': 0.49261083743842365, 'FAS': 0.49261083743842365, 'H1F0': 0.49261083743842365, 'CHEK2': 0.4975124378109453, 'COL18A1': 0.49261083743842365, 'CREBBP': 0.5, 'FDXR': 0.49261083743842365, 'SMYD2': 0.49261083743842365, 'ATR': 0.4975124378109453, 'HGF': 0.49261083743842365, 'ATM': 0.4975124378109453, 'TP63': 0.5524861878453039, 'GPX1': 0.49261083743842365, 'TRIAP1': 0.49261083743842365, 'HIST1H1E': 0.49261083743842365, 'HIST1H1D': 0.49261083743842365, 'HIST1H1C': 0.49261083743842365, 'HIST1H1B': 0.49261083743842365, 'HIST1H1A': 0.49261083743842365, 'TP53': 0.9615384615384616, 'GADD45A': 0.5076142131979695, 'PML': 0.4975124378109453, 'SUMO1': 0.4975124378109453, 'PPP2CA': 0.4975124378109453, 'PPP2CB': 0.4975124378109453, 'PRKAA1': 0.4975124378109453, 'PRKAA2': 0.4975124378109453, 'MAPK11': 0.4975124378109453, 'TP73': 0.5524861878453039, 'CCNB1': 0.4975124378109453, 'MAPK12': 0.4975124378109453, 'MAPK13': 0.4975124378109453, 'MAPK14': 0.4975124378109453, 'PRKAB2': 0.4975124378109453, 'PRKAB1': 0.4975124378109453, 'EP300': 0.5050505050505051, 'IGBP1': 0.4975124378109453, 'FBXO11': 0.4975124378109453, 'HMGB1': 0.4975124378109453, 'NEDD8': 0.33557046979865773, 'ASF1A': 0.49261083743842365, 'KAT8': 0.49261083743842365, 'HTT': 0.4975124378109453, 'WRN': 0.4975124378109453, 'CDKN1A': 0.49504950495049505, 'PLK3': 0.49261083743842365, 'DYRK1A': 0.49261083743842365, 'PRKAG1': 0.4975124378109453, 'CASP6': 0.49261083743842365, 'MAX': 0.49261083743842365, 'FOS': 0.49261083743842365, 'TP53I3': 0.49261083743842365, 'PRMT1': 0.33783783783783783, 'PCBP4': 0.49261083743842365, 'PRMT5': 0.49261083743842365, 'E4F1': 0.49261083743842365, 'CASP1': 0.49261083743842365, 'PRKCA': 0.49261083743842365, 'CDK1': 0.49261083743842365, 'CDK9': 0.49261083743842365, 'RB1': 0.49261083743842365, 'CDK7': 0.49261083743842365, 'HMGA2': 0.49261083743842365, 'DAPK3': 0.49261083743842365, 'HMGA1': 0.49261083743842365, 'PRKCD': 0.49261083743842365, 'UBN1': 0.49261083743842365, 'CDK5': 0.49261083743842365, 'CDK2': 0.49261083743842365, 'DAPK1': 0.49261083743842365, 'RFWD2': 0.49261083743842365, 'PPM1J': 0.49261083743842365, 'BTG2': 0.49261083743842365, 'CD82': 0.49261083743842365, 'HIPK2': 0.49261083743842365, 'DDB2': 0.49261083743842365, 'MDM2': 0.4975124378109453, 'CTSD': 0.49261083743842365, 'NGFR': 0.49261083743842365, 'CARM1': 0.33783783783783783, 'TYRP1': 0.49261083743842365, 'PRKDC': 0.49261083743842365, 'HIC1': 0.49261083743842365, 'TAP1': 0.49261083743842365, 'PYCARD': 0.49261083743842365, 'APC': 0.49261083743842365, 'RNF144B': 0.49261083743842365, 'KAT2B': 0.49261083743842365, 'MSH2': 0.49261083743842365, 'PPP1R13L': 0.49261083743842365, 'SIRT1': 0.5, 'CASP10': 0.49261083743842365, 'SP1': 0.3333333333333333, 'IRF5': 0.49261083743842365, 'BAX': 0.49261083743842365, 'CABIN1': 0.49261083743842365, 'SETD7': 0.49261083743842365, 'SETD8': 0.49261083743842365, 'APAF1': 0.49261083743842365, 'GDF15': 0.49261083743842365} \n",
      "\n",
      "Eigenvector Centrality: {'HIRA': 0.056263662081677324, 'SERPINE1': 0.056263662081677324, 'FAS': 0.056263662081677324, 'H1F0': 0.056263662081677324, 'CHEK2': 0.10381448904127497, 'COL18A1': 0.056263662081677324, 'CREBBP': 0.06285871213976982, 'FDXR': 0.056263662081677324, 'SMYD2': 0.056263662081677324, 'ATR': 0.10381448904127497, 'HGF': 0.056263662081677324, 'ATM': 0.10381448904127497, 'TP63': 0.2634837302286841, 'GPX1': 0.056263662081677324, 'TRIAP1': 0.056263662081677324, 'HIST1H1E': 0.056263662081677324, 'HIST1H1D': 0.056263662081677324, 'HIST1H1C': 0.056263662081677324, 'HIST1H1B': 0.056263662081677324, 'HIST1H1A': 0.056263662081677324, 'TP53': 0.6235217423505225, 'GADD45A': 0.07308849480341513, 'PML': 0.10381448904127497, 'SUMO1': 0.10381448904127497, 'PPP2CA': 0.10381448904127497, 'PPP2CB': 0.10381448904127497, 'PRKAA1': 0.10381448904127497, 'PRKAA2': 0.10381448904127497, 'MAPK11': 0.10381448904127497, 'TP73': 0.2634837302286841, 'CCNB1': 0.05672553577378151, 'MAPK12': 0.10381448904127497, 'MAPK13': 0.10381448904127497, 'MAPK14': 0.10381448904127497, 'PRKAB2': 0.10381448904127497, 'PRKAB1': 0.10381448904127497, 'EP300': 0.11040953909936746, 'IGBP1': 0.10381448904127497, 'FBXO11': 0.057195055363401304, 'HMGB1': 0.10381448904127497, 'NEDD8': 0.0103218042470831, 'ASF1A': 0.056263662081677324, 'KAT8': 0.056263662081677324, 'HTT': 0.10381448904127497, 'WRN': 0.10381448904127497, 'CDKN1A': 0.06616998884410037, 'PLK3': 0.056263662081677324, 'DYRK1A': 0.056263662081677324, 'PRKAG1': 0.10381448904127497, 'CASP6': 0.056263662081677324, 'MAX': 0.056263662081677324, 'FOS': 0.056263662081677324, 'TP53I3': 0.056263662081677324, 'PRMT1': 0.0065950500580924986, 'PCBP4': 0.056263662081677324, 'PRMT5': 0.056263662081677324, 'E4F1': 0.056263662081677324, 'CASP1': 0.056263662081677324, 'PRKCA': 0.056263662081677324, 'CDK1': 0.056263662081677324, 'CDK9': 0.056263662081677324, 'RB1': 0.056263662081677324, 'CDK7': 0.056263662081677324, 'HMGA2': 0.056263662081677324, 'DAPK3': 0.056263662081677324, 'HMGA1': 0.056263662081677324, 'PRKCD': 0.056263662081677324, 'UBN1': 0.056263662081677324, 'CDK5': 0.056263662081677324, 'CDK2': 0.056263662081677324, 'DAPK1': 0.056263662081677324, 'RFWD2': 0.056263662081677324, 'PPM1J': 0.056263662081677324, 'BTG2': 0.056263662081677324, 'CD82': 0.056263662081677324, 'HIPK2': 0.056263662081677324, 'DDB2': 0.056263662081677324, 'MDM2': 0.057195055363401304, 'CTSD': 0.056263662081677324, 'NGFR': 0.056263662081677324, 'CARM1': 0.0065950500580924986, 'TYRP1': 0.056263662081677324, 'PRKDC': 0.056263662081677324, 'HIC1': 0.056263662081677324, 'TAP1': 0.056263662081677324, 'PYCARD': 0.056263662081677324, 'APC': 0.056263662081677324, 'RNF144B': 0.056263662081677324, 'KAT2B': 0.056263662081677324, 'MSH2': 0.056263662081677324, 'PPP1R13L': 0.056263662081677324, 'SIRT1': 0.10978524760522229, 'CASP10': 0.056263662081677324, 'SP1': 0.00511853591025517, 'IRF5': 0.056263662081677324, 'BAX': 0.056263662081677324, 'CABIN1': 0.056263662081677324, 'SETD7': 0.056263662081677324, 'SETD8': 0.056263662081677324, 'APAF1': 0.056263662081677324, 'GDF15': 0.056263662081677324} \n",
      "\n",
      "PageRank Centrality: {'HIRA': 0.004341636626909925, 'SERPINE1': 0.004341636626909925, 'FAS': 0.004341636626909925, 'H1F0': 0.004341636626909925, 'CHEK2': 0.008648903675004732, 'COL18A1': 0.004341636626909925, 'CREBBP': 0.007317562219803488, 'FDXR': 0.004341636626909925, 'SMYD2': 0.004341636626909925, 'ATR': 0.008648903675004732, 'HGF': 0.004341636626909925, 'ATM': 0.008648903675004732, 'TP63': 0.05826737833337287, 'GPX1': 0.004341636626909925, 'TRIAP1': 0.004341636626909925, 'HIST1H1E': 0.004341636626909925, 'HIST1H1D': 0.004341636626909925, 'HIST1H1C': 0.004341636626909925, 'HIST1H1B': 0.004341636626909925, 'HIST1H1A': 0.004341636626909925, 'TP53': 0.32258107518479157, 'GADD45A': 0.01750520971627451, 'PML': 0.008648903675004732, 'SUMO1': 0.008648903675004732, 'PPP2CA': 0.008648903675004732, 'PPP2CB': 0.008648903675004732, 'PRKAA1': 0.008648903675004732, 'PRKAA2': 0.008648903675004732, 'MAPK11': 0.008648903675004732, 'TP73': 0.05826737833337287, 'CCNB1': 0.008773509473669746, 'MAPK12': 0.008648903675004732, 'MAPK13': 0.008648903675004732, 'MAPK14': 0.008648903675004732, 'PRKAB2': 0.008648903675004732, 'PRKAB1': 0.008648903675004732, 'EP300': 0.011624829267898294, 'IGBP1': 0.008648903675004732, 'FBXO11': 0.007785348035240815, 'HMGB1': 0.008648903675004732, 'NEDD8': 0.008102005730998759, 'ASF1A': 0.004341636626909925, 'KAT8': 0.004341636626909925, 'HTT': 0.008648903675004732, 'WRN': 0.008648903675004732, 'CDKN1A': 0.006792782818260693, 'PLK3': 0.004341636626909925, 'DYRK1A': 0.004341636626909925, 'PRKAG1': 0.008648903675004732, 'CASP6': 0.004341636626909925, 'MAX': 0.004341636626909925, 'FOS': 0.004341636626909925, 'TP53I3': 0.004341636626909925, 'PRMT1': 0.004461074107745047, 'PCBP4': 0.004341636626909925, 'PRMT5': 0.004341636626909925, 'E4F1': 0.004341636626909925, 'CASP1': 0.004341636626909925, 'PRKCA': 0.004341636626909925, 'CDK1': 0.004341636626909925, 'CDK9': 0.004341636626909925, 'RB1': 0.004341636626909925, 'CDK7': 0.004341636626909925, 'HMGA2': 0.004341636626909925, 'DAPK3': 0.004341636626909925, 'HMGA1': 0.004341636626909925, 'PRKCD': 0.004341636626909925, 'UBN1': 0.004341636626909925, 'CDK5': 0.004341636626909925, 'CDK2': 0.004341636626909925, 'DAPK1': 0.004341636626909925, 'RFWD2': 0.004341636626909925, 'PPM1J': 0.004341636626909925, 'BTG2': 0.004341636626909925, 'CD82': 0.004341636626909925, 'HIPK2': 0.004341636626909925, 'DDB2': 0.004341636626909925, 'MDM2': 0.007785348035240815, 'CTSD': 0.004341636626909925, 'NGFR': 0.004341636626909925, 'CARM1': 0.004461074107745047, 'TYRP1': 0.004341636626909925, 'PRKDC': 0.004341636626909925, 'HIC1': 0.004341636626909925, 'TAP1': 0.004341636626909925, 'PYCARD': 0.004341636626909925, 'APC': 0.004341636626909925, 'RNF144B': 0.004341636626909925, 'KAT2B': 0.004341636626909925, 'MSH2': 0.004341636626909925, 'PPP1R13L': 0.004341636626909925, 'SIRT1': 0.011535788025075301, 'CASP10': 0.004341636626909925, 'SP1': 0.005213545734360091, 'IRF5': 0.004341636626909925, 'BAX': 0.004341636626909925, 'CABIN1': 0.004341636626909925, 'SETD7': 0.004341636626909925, 'SETD8': 0.004341636626909925, 'APAF1': 0.004341636626909925, 'GDF15': 0.004341636626909925} \n",
      "\n"
     ]
    }
   ],
   "source": [
    "betweenness_centrality = nx.betweenness_centrality(G)\n",
    "closeness_centrality = nx.closeness_centrality(G)\n",
    "eigenvector_centrality = nx.eigenvector_centrality(G)\n",
    "pagerank_centrality = nx.pagerank(G)\n",
    "\n",
    "print(\"Betweenness Centrality:\", betweenness_centrality, \"\\n\")\n",
    "print(\"Closeness Centrality:\", closeness_centrality, \"\\n\")\n",
    "print(\"Eigenvector Centrality:\", eigenvector_centrality, \"\\n\")\n",
    "print(\"PageRank Centrality:\", pagerank_centrality, \"\\n\")\n"
   ]
  },
  {
   "cell_type": "code",
   "execution_count": null,
   "id": "3ff0cd01-1e2d-49e1-9d83-4b241b5fa085",
   "metadata": {},
   "outputs": [],
   "source": []
  }
 ],
 "metadata": {
  "kernelspec": {
   "display_name": "Python 3 (ipykernel)",
   "language": "python",
   "name": "python3"
  },
  "language_info": {
   "codemirror_mode": {
    "name": "ipython",
    "version": 3
   },
   "file_extension": ".py",
   "mimetype": "text/x-python",
   "name": "python",
   "nbconvert_exporter": "python",
   "pygments_lexer": "ipython3",
   "version": "3.12.3"
  }
 },
 "nbformat": 4,
 "nbformat_minor": 5
}
